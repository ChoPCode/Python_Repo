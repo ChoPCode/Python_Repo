{
 "cells": [
  {
   "cell_type": "code",
   "execution_count": 7,
   "metadata": {
    "scrolled": true
   },
   "outputs": [
    {
     "name": "stdout",
     "output_type": "stream",
     "text": [
      "uisr.business@gmail.com\n",
      "zhnkzjjrgudwxtlx\n"
     ]
    }
   ],
   "source": [
    "import smtplib\n",
    "import os\n",
    "from email.message import EmailMessage\n",
    "import imghdr\n",
    "\n",
    "#https://myaccount.google.com/lesssecureapps\n",
    "#Need to access to obtain an app password\n",
    "\n",
    "EMAIL_ADDRESS = os.environ.get('USER_EMAIL')\n",
    "EMAIL_PASSWORD = os.environ.get('USER_PASS')\n",
    "\n",
    "print(EMAIL_ADDRESS)\n",
    "print(EMAIL_PASSWORD)\n",
    "\n",
    "msg = EmailMessage()\n",
    "msg['Subject'] = \"Sample Subject Line\"\n",
    "msg['From'] = EMAIL_ADDRESS\n",
    "msg['To'] = \"Robbyhsiu329@gmail.com\"\n",
    "msg.set_content(\"Sample Body, may have attachments/html\")\n",
    "\n",
    "with open(r\"C:\\Users\\Robby\\Pictures\\IMG_9785.JPG\",'rb') as f:\n",
    "    file_data = f.read()\n",
    "    file_type = imghdr.what(f.name)\n",
    "    file_name = f.name\n",
    "\n",
    "# Attachment - msg.add_attachment(file_data,maintype='image', subtype=file_type, filename=file_name)\n",
    "# PDF - msg.add_attachment(file_data,maintype='application', subtype='octet-stream', filename=file_name)\n",
    "msg.set_content('This is a plain text email')\n",
    "\n",
    "msg.add_alternative(\"\"\"\\\n",
    "<!DOCTYPE html>\n",
    "<html>\n",
    "    <body>\n",
    "        <h1 style=\"color:SlateGray;\">This is an HTML Email!</h1>\n",
    "    </body>\n",
    "</html>\n",
    "\"\"\", subtype='html')\n",
    "\n",
    "#subject = 'Sample Subject line'\n",
    "#body = 'Sample Body Text'\n",
    "#msg = f'Subject: {subject}\\n\\n{body}'\n",
    "\n",
    "#smtp.sendmail(SENDER, RECEIVER, msg)\n",
    "\n",
    "\"\"\"\n",
    "server = smtplib.SMTP('smtp.gmail.com','587')\n",
    "server.starttls()\n",
    "server.login(EMAIL_ADDRESS,EMAIL_PASSWORD)\n",
    "server.sendmail(EMAIL_ADDRESS,\"Robbyhsiu329@gmail.com\", msg)\n",
    "\"\"\"\n",
    "\n",
    "with smtplib.SMTP('smtp.gmail.com','587', timeout=120) as smtp:\n",
    "    smtp.starttls()\n",
    "    smtp.login(EMAIL_ADDRESS, EMAIL_PASSWORD)\n",
    "    \n",
    "    smtp.send_message(msg)\n",
    "    #smtp.sendmail(EMAIL_ADDRESS, 'Robbyhsiu329@gmail.com', msg)\n"
   ]
  },
  {
   "cell_type": "raw",
   "metadata": {},
   "source": []
  },
  {
   "cell_type": "code",
   "execution_count": 4,
   "metadata": {},
   "outputs": [
    {
     "name": "stdout",
     "output_type": "stream",
     "text": [
      "hello\n"
     ]
    }
   ],
   "source": [
    "print('hello')\n"
   ]
  },
  {
   "cell_type": "code",
   "execution_count": null,
   "metadata": {},
   "outputs": [],
   "source": []
  }
 ],
 "metadata": {
  "kernelspec": {
   "display_name": "Python 3",
   "language": "python",
   "name": "python3"
  },
  "language_info": {
   "codemirror_mode": {
    "name": "ipython",
    "version": 3
   },
   "file_extension": ".py",
   "mimetype": "text/x-python",
   "name": "python",
   "nbconvert_exporter": "python",
   "pygments_lexer": "ipython3",
   "version": "3.7.3"
  }
 },
 "nbformat": 4,
 "nbformat_minor": 2
}
